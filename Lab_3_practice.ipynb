{
  "nbformat": 4,
  "nbformat_minor": 0,
  "metadata": {
    "colab": {
      "name": "Lab_3_practice.ipynb",
      "provenance": [],
      "authorship_tag": "ABX9TyOe4vDx/ixfrLO0/Yh8Qs27",
      "include_colab_link": true
    },
    "kernelspec": {
      "name": "python3",
      "display_name": "Python 3"
    }
  },
  "cells": [
    {
      "cell_type": "markdown",
      "metadata": {
        "id": "view-in-github",
        "colab_type": "text"
      },
      "source": [
        "<a href=\"https://colab.research.google.com/github/YeasinKabirJoy/CSE_310/blob/master/Lab_3_practice.ipynb\" target=\"_parent\"><img src=\"https://colab.research.google.com/assets/colab-badge.svg\" alt=\"Open In Colab\"/></a>"
      ]
    },
    {
      "cell_type": "code",
      "metadata": {
        "id": "aQyiG_-ODhlo",
        "colab_type": "code",
        "colab": {
          "base_uri": "https://localhost:8080/",
          "height": 72
        },
        "outputId": "ac751d6c-41fb-4ae1-eaac-4d5b1532dfe0"
      },
      "source": [
        "student=[\n",
        "         \n",
        "         {\n",
        "            \"id\":\"1\",\n",
        "            \"First Name\":\"peter\",\n",
        "            \"Last Name\":\"Lee\",\n",
        "            \"Email\":\"plee@uni.edu\",\n",
        "            \"Year of Birth\":1992  \n",
        "         },\n",
        "\n",
        "         {\n",
        "            \"id\":\"2\",\n",
        "            \"First Name\":\"Jonathon\",\n",
        "            \"Last Name\":\"Edwards\",\n",
        "            \"Email\":\"jedwards@uni.edu\",\n",
        "            \"Year of Birth\":1994  \n",
        "         },\n",
        "\n",
        "         {\n",
        "            \"id\":\"3\",\n",
        "            \"First Name\":\"Mariyn\",\n",
        "            \"Last Name\":\"Johnson\",\n",
        "            \"Email\":\"mjohnson@uni.edu\",\n",
        "            \"Year of Birth\":1993  \n",
        "         },\n",
        "\n",
        "\n",
        "         {\n",
        "            \"id\":\"6\",\n",
        "            \"First Name\":\"Joe\",\n",
        "            \"Last Name\":\"Kim\",\n",
        "            \"Email\":\"jkim@uni.edu\",\n",
        "            \"Year of Birth\":1992  \n",
        "         },\n",
        "\n",
        "]\n",
        "\n",
        "id = input()\n",
        "\n",
        "# for i in range(0,len(student)):\n",
        "#   if student[i][\"id\"]==id:\n",
        "#     print(student[i])\n",
        "#     break\n",
        "\n",
        "for i in student:\n",
        "  if i[\"id\"] == id:\n",
        "    print(i[\"id\"],i[\"First Name\"],i[\"Last Name\"],i[\"Email\"],i[\"Year of Birth\"])\n",
        "    print(i)\n",
        "    break\n",
        "\n",
        "\n",
        "\n",
        "\n"
      ],
      "execution_count": 1,
      "outputs": [
        {
          "output_type": "stream",
          "text": [
            "6\n",
            "6 Joe Kim jkim@uni.edu 1992\n",
            "{'id': '6', 'First Name': 'Joe', 'Last Name': 'Kim', 'Email': 'jkim@uni.edu', 'Year of Birth': 1992}\n"
          ],
          "name": "stdout"
        }
      ]
    }
  ]
}